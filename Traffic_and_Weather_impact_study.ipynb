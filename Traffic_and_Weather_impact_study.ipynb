{
  "nbformat": 4,
  "nbformat_minor": 0,
  "metadata": {
    "colab": {
      "provenance": []
    },
    "kernelspec": {
      "name": "python3",
      "display_name": "Python 3"
    },
    "language_info": {
      "name": "python"
    }
  },
  "cells": [
    {
      "cell_type": "code",
      "execution_count": null,
      "metadata": {
        "id": "fh65g0zXtzfv"
      },
      "outputs": [],
      "source": [
        "import pandas as pd\n",
        "from sklearn.ensemble import RandomForestRegressor\n",
        "from sklearn.model_selection import train_test_split\n",
        "from sklearn.metrics import mean_absolute_error, r2_score\n",
        "import streamlit as st\n",
        "\n",
        "# Loading data\n",
        "traffic_df = pd.read_csv(\"traffic_data.csv\", parse_dates=[\"datetime\"])\n",
        "weather_df = pd.read_csv(\"weather_data.csv\", parse_dates=[\"datetime\"])\n",
        "\n",
        "# Merging datasets on datetime\n",
        "df = pd.merge(traffic_df, weather_df, on=\"datetime\")\n",
        "\n",
        "# Displaying raw data\n",
        "st.title(\"Urban Traffic & Weather Impact Study (Offline Mode)\")\n",
        "st.write(\"### Merged Dataset\")\n",
        "st.dataframe(df)\n",
        "\n",
        "# Correlation analysis\n",
        "st.write(\"### Correlation Analysis\")\n",
        "corr = df.corr(numeric_only=True)\n",
        "st.dataframe(corr)\n",
        "\n",
        "# Preparing data for ML model\n",
        "X = df[[\"temperature\", \"rain_mm\", \"air_quality_index\"]]\n",
        "y = df[\"congestion_level\"]\n",
        "\n",
        "# Train-test split\n",
        "X_train, X_test, y_train, y_test = train_test_split(X, y, test_size=0.2, random_state=42)\n",
        "\n",
        "# Training Random Forest model\n",
        "model = RandomForestRegressor(n_estimators=100, random_state=42)\n",
        "model.fit(X_train, y_train)\n",
        "\n",
        "# Predictions\n",
        "y_pred = model.predict(X_test)\n",
        "\n",
        "# Model evaluation\n",
        "mae = mean_absolute_error(y_test, y_pred)\n",
        "r2 = r2_score(y_test, y_pred)\n",
        "\n",
        "st.write(\"### Model Performance\")\n",
        "st.write(f\"Mean Absolute Error: {mae:.2f}\")\n",
        "st.write(f\"R² Score: {r2:.2f}\")\n",
        "\n",
        "# Best time to travel prediction\n",
        "st.write(\"### Best Time to Travel Prediction\")\n",
        "df[\"predicted_congestion\"] = model.predict(X)\n",
        "best_time = df.loc[df[\"predicted_congestion\"].idxmin()]\n",
        "\n",
        "st.write(f\"Best time to travel: {best_time['datetime']} \"\n",
        "         f\"with predicted congestion level {best_time['predicted_congestion']:.1f}%\")\n",
        "\n",
        "# Visualization\n",
        "st.write(\"### Congestion vs Weather Factors\")\n",
        "st.line_chart(df.set_index(\"datetime\")[[\"congestion_level\", \"predicted_congestion\"]])\n"
      ]
    }
  ]
}